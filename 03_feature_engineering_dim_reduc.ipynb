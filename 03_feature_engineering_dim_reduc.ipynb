{
 "cells": [
  {
   "cell_type": "markdown",
   "metadata": {},
   "source": [
    "# **Experiment 2: Feature Engineering and Dimensionality Reduction**\n",
    "\n",
    "## ***Objectives for this Notebook***\n",
    "\n",
    "\n",
    "**Feature Engineering**\n",
    "\n",
    "**Dimensionality Reduction**\n"
   ]
  },
  {
   "cell_type": "markdown",
   "metadata": {},
   "source": [
    "## **1.) Loading the dataset and setting parameters**"
   ]
  },
  {
   "cell_type": "markdown",
   "metadata": {},
   "source": [
    "## **2.) Creating a data loader**"
   ]
  },
  {
   "cell_type": "markdown",
   "metadata": {},
   "source": [
    "## **3.) Cross Validation and Hyperparameter Grid Search**"
   ]
  },
  {
   "cell_type": "markdown",
   "metadata": {},
   "source": [
    "## **4.) Creating a Training Loop Function**"
   ]
  }
 ],
 "metadata": {
  "language_info": {
   "name": "python"
  }
 },
 "nbformat": 4,
 "nbformat_minor": 2
}
